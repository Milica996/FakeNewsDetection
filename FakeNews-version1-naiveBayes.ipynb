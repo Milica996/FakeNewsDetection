{
 "cells": [
  {
   "cell_type": "code",
   "execution_count": 1,
   "id": "d70f303e",
   "metadata": {},
   "outputs": [],
   "source": [
    "import pandas as pd"
   ]
  },
  {
   "cell_type": "markdown",
   "id": "0f1d8678",
   "metadata": {},
   "source": [
    "### Combine fake.csv and true.csv //first dataset "
   ]
  },
  {
   "cell_type": "code",
   "execution_count": 2,
   "id": "64fe6cc1",
   "metadata": {},
   "outputs": [],
   "source": [
    "df_fake = pd.read_csv('datasets/Fake.csv')\n",
    "df_true = pd.read_csv('datasets/True.csv')\n",
    "df_fake_or_real = pd.read_csv('datasets/fake_or_real_news.csv')\n",
    "df_fake_corpus = pd.read_csv('datasets/news_sample.csv')\n",
    "\n",
    "df_fake.insert(4, 'label', 'fake')\n",
    "df_true.insert(4, 'label', 'real')\n",
    "\n",
    "df_fake_true = pd.concat([df_fake, df_true])\n",
    "\n",
    "df_fake_true.reset_index(drop=True, inplace=True)\n",
    "\n",
    "# print(df_fake_true.to_string())"
   ]
  },
  {
   "cell_type": "markdown",
   "id": "d51aa113",
   "metadata": {},
   "source": [
    "### Filter and clean data //separately"
   ]
  },
  {
   "cell_type": "code",
   "execution_count": 3,
   "id": "143b94b3",
   "metadata": {},
   "outputs": [],
   "source": [
    "# first dataset\n",
    "\n",
    "# Remove unnecessary columns\n",
    "df_fake_true.drop(['subject', 'date'], axis=1, inplace=True)"
   ]
  },
  {
   "cell_type": "code",
   "execution_count": 4,
   "id": "3db3e0ae",
   "metadata": {},
   "outputs": [],
   "source": [
    "# second dataset\n",
    "\n",
    "# Remove unnecessary columns\n",
    "df_fake_or_real.drop(df_fake_or_real.columns[0], axis=1, inplace=True)\n",
    "\n",
    "df_fake_or_real['label'].replace(['FAKE','REAL'], ['fake', 'real'], inplace=True)\n",
    "\n",
    "# print(df_fake_or_real.to_string())"
   ]
  },
  {
   "cell_type": "code",
   "execution_count": 5,
   "id": "3d7c0633",
   "metadata": {},
   "outputs": [],
   "source": [
    "#third dataset\n",
    "\n",
    "# Remove rows with invalid values\n",
    "df_fake_corpus.drop(df_fake_corpus.index[(df_fake_corpus['type'] == 'unreliable') |\n",
    "                                        (df_fake_corpus['type'] == 'satire') |\n",
    "                                        (df_fake_corpus['type'] == 'bias') |\n",
    "                                        (df_fake_corpus['type'] == 'state') |\n",
    "                                        (df_fake_corpus['type'] == 'conspiracy') |\n",
    "                                        (df_fake_corpus['type'] == 'junksci') |\n",
    "                                        (df_fake_corpus['type'] == 'hate') |\n",
    "                                        (df_fake_corpus['type'] == 'clickbait') |\n",
    "                                        (df_fake_corpus['type'] == 'unknown') |\n",
    "                                        (df_fake_corpus['type'] == 'political')], inplace=True)\n",
    "\n",
    "# Remove unnecessary columns\n",
    "df_fake_corpus.drop([df_fake_corpus.columns[0], 'id', 'domain', 'url', 'scraped_at' ,'inserted_at','updated_at',\n",
    "                     'authors','keywords','meta_keywords','meta_description','tags','summary'],\n",
    "                   axis=1, inplace=True)\n",
    "\n",
    "# Rename columns\n",
    "df_fake_corpus.rename(columns = {'type' : 'label', 'content': 'text'}, inplace=True)\n",
    "\n",
    "# Rename label\n",
    "df_fake_corpus['label'].replace(['reliable'],['real'], inplace=True)\n",
    "\n",
    "# print(df_fake_corpus['label'].unique())\n",
    "# print(df_fake_corpus.to_string())\n"
   ]
  },
  {
   "cell_type": "markdown",
   "id": "4f0a16dc",
   "metadata": {},
   "source": [
    "### Filter and clean data //all together"
   ]
  },
  {
   "cell_type": "code",
   "execution_count": 6,
   "id": "7805f832",
   "metadata": {},
   "outputs": [],
   "source": [
    "# Combine all together\n",
    "df_complete = pd.concat([df_fake_true, df_fake_or_real, df_fake_corpus])\n",
    "\n",
    "df_complete.reset_index(drop=True, inplace=True)\n",
    "\n",
    "# print(df_complete.to_string())"
   ]
  },
  {
   "cell_type": "code",
   "execution_count": 7,
   "id": "640ee07e",
   "metadata": {},
   "outputs": [],
   "source": [
    "# Remove duplicates\n",
    "\n",
    "# df_complete.columns\n",
    "\n",
    "df_complete.nunique()\n",
    "df_complete.shape\n",
    "\n",
    "duplicates = df_complete.duplicated(subset=['title', 'text'], keep=\"first\")\n",
    "# print(duplicates)\n",
    "df_complete.drop_duplicates(subset=['title', 'text'], inplace=True, keep=\"first\")\n",
    "\n",
    "# print and remove blank value\n",
    "blank = df_complete.isna().any(axis=1).sum()\n",
    "# print(blank)\n",
    "df_complete.dropna(inplace = True)\n",
    "blank_2 = df_complete.isna().any(axis=1).sum()\n",
    "# print(blank_2)"
   ]
  },
  {
   "cell_type": "markdown",
   "id": "5abae077",
   "metadata": {},
   "source": [
    "### FIRST METHOD NAIVE BAYES"
   ]
  },
  {
   "cell_type": "markdown",
   "id": "24abe94e",
   "metadata": {},
   "source": [
    "### Preparation of text - lemmatization"
   ]
  },
  {
   "cell_type": "code",
   "execution_count": 8,
   "id": "6983f6d3",
   "metadata": {},
   "outputs": [],
   "source": [
    "import spacy\n",
    "nlp = spacy.load('en_core_web_sm')\n",
    "stop_words = spacy.lang.en.stop_words.STOP_WORDS\n",
    "\n",
    "def preprocess_text(text):\n",
    "    parsed = nlp(text)\n",
    "#     print(parsed)\n",
    "    lemmas = [token.lemma_.lower() for token in parsed if not token.is_stop]\n",
    "    return \" \".join(lemmas)\n",
    "df_complete.iloc[1]['text']\n",
    "# print(df_complete.iloc[1]['text'])\n",
    "# print('/n/n/n')\n",
    "txt = preprocess_text(df_complete.iloc[1]['text'])\n",
    "# print(txt)\n"
   ]
  },
  {
   "cell_type": "markdown",
   "id": "271415ed",
   "metadata": {},
   "source": [
    "### Preparation of text - stemming to do"
   ]
  },
  {
   "cell_type": "code",
   "execution_count": null,
   "id": "9eb71b8b",
   "metadata": {},
   "outputs": [],
   "source": []
  },
  {
   "cell_type": "markdown",
   "id": "532fcebe",
   "metadata": {},
   "source": [
    "### Spliting into train, valid and test"
   ]
  },
  {
   "cell_type": "code",
   "execution_count": 9,
   "id": "09f65bb6",
   "metadata": {},
   "outputs": [],
   "source": [
    "from sklearn.model_selection import train_test_split\n",
    "# 60% train, 20% valid, 20% test\n",
    "X_train, X_test, y_train, y_test = train_test_split(df_complete['text'], df_complete['label'], test_size=0.2, random_state=1)\n",
    "X_train, X_valid, y_train, y_valid = train_test_split(df_complete['text'], df_complete['label'], test_size=0.25, random_state=1)"
   ]
  },
  {
   "cell_type": "code",
   "execution_count": 10,
   "id": "922b76eb",
   "metadata": {},
   "outputs": [],
   "source": [
    "# Vectorazing by creating bag-of-words features"
   ]
  },
  {
   "cell_type": "code",
   "execution_count": 11,
   "id": "8bb23ef4",
   "metadata": {},
   "outputs": [],
   "source": [
    "from sklearn.feature_extraction.text import CountVectorizer\n",
    "vectorizer = CountVectorizer()\n",
    "X_train_vect = vectorizer.fit_transform(X_train)\n",
    "X_test_vect = vectorizer.transform(X_test)\n",
    "X_valid_vect = vectorizer.transform(X_valid)"
   ]
  },
  {
   "cell_type": "code",
   "execution_count": 12,
   "id": "e815dd95",
   "metadata": {},
   "outputs": [],
   "source": [
    "# Training Naïve Bayes Classifier"
   ]
  },
  {
   "cell_type": "code",
   "execution_count": 13,
   "id": "af111410",
   "metadata": {},
   "outputs": [
    {
     "data": {
      "text/html": [
       "<style>#sk-container-id-1 {color: black;background-color: white;}#sk-container-id-1 pre{padding: 0;}#sk-container-id-1 div.sk-toggleable {background-color: white;}#sk-container-id-1 label.sk-toggleable__label {cursor: pointer;display: block;width: 100%;margin-bottom: 0;padding: 0.3em;box-sizing: border-box;text-align: center;}#sk-container-id-1 label.sk-toggleable__label-arrow:before {content: \"▸\";float: left;margin-right: 0.25em;color: #696969;}#sk-container-id-1 label.sk-toggleable__label-arrow:hover:before {color: black;}#sk-container-id-1 div.sk-estimator:hover label.sk-toggleable__label-arrow:before {color: black;}#sk-container-id-1 div.sk-toggleable__content {max-height: 0;max-width: 0;overflow: hidden;text-align: left;background-color: #f0f8ff;}#sk-container-id-1 div.sk-toggleable__content pre {margin: 0.2em;color: black;border-radius: 0.25em;background-color: #f0f8ff;}#sk-container-id-1 input.sk-toggleable__control:checked~div.sk-toggleable__content {max-height: 200px;max-width: 100%;overflow: auto;}#sk-container-id-1 input.sk-toggleable__control:checked~label.sk-toggleable__label-arrow:before {content: \"▾\";}#sk-container-id-1 div.sk-estimator input.sk-toggleable__control:checked~label.sk-toggleable__label {background-color: #d4ebff;}#sk-container-id-1 div.sk-label input.sk-toggleable__control:checked~label.sk-toggleable__label {background-color: #d4ebff;}#sk-container-id-1 input.sk-hidden--visually {border: 0;clip: rect(1px 1px 1px 1px);clip: rect(1px, 1px, 1px, 1px);height: 1px;margin: -1px;overflow: hidden;padding: 0;position: absolute;width: 1px;}#sk-container-id-1 div.sk-estimator {font-family: monospace;background-color: #f0f8ff;border: 1px dotted black;border-radius: 0.25em;box-sizing: border-box;margin-bottom: 0.5em;}#sk-container-id-1 div.sk-estimator:hover {background-color: #d4ebff;}#sk-container-id-1 div.sk-parallel-item::after {content: \"\";width: 100%;border-bottom: 1px solid gray;flex-grow: 1;}#sk-container-id-1 div.sk-label:hover label.sk-toggleable__label {background-color: #d4ebff;}#sk-container-id-1 div.sk-serial::before {content: \"\";position: absolute;border-left: 1px solid gray;box-sizing: border-box;top: 0;bottom: 0;left: 50%;z-index: 0;}#sk-container-id-1 div.sk-serial {display: flex;flex-direction: column;align-items: center;background-color: white;padding-right: 0.2em;padding-left: 0.2em;position: relative;}#sk-container-id-1 div.sk-item {position: relative;z-index: 1;}#sk-container-id-1 div.sk-parallel {display: flex;align-items: stretch;justify-content: center;background-color: white;position: relative;}#sk-container-id-1 div.sk-item::before, #sk-container-id-1 div.sk-parallel-item::before {content: \"\";position: absolute;border-left: 1px solid gray;box-sizing: border-box;top: 0;bottom: 0;left: 50%;z-index: -1;}#sk-container-id-1 div.sk-parallel-item {display: flex;flex-direction: column;z-index: 1;position: relative;background-color: white;}#sk-container-id-1 div.sk-parallel-item:first-child::after {align-self: flex-end;width: 50%;}#sk-container-id-1 div.sk-parallel-item:last-child::after {align-self: flex-start;width: 50%;}#sk-container-id-1 div.sk-parallel-item:only-child::after {width: 0;}#sk-container-id-1 div.sk-dashed-wrapped {border: 1px dashed gray;margin: 0 0.4em 0.5em 0.4em;box-sizing: border-box;padding-bottom: 0.4em;background-color: white;}#sk-container-id-1 div.sk-label label {font-family: monospace;font-weight: bold;display: inline-block;line-height: 1.2em;}#sk-container-id-1 div.sk-label-container {text-align: center;}#sk-container-id-1 div.sk-container {/* jupyter's `normalize.less` sets `[hidden] { display: none; }` but bootstrap.min.css set `[hidden] { display: none !important; }` so we also need the `!important` here to be able to override the default hidden behavior on the sphinx rendered scikit-learn.org. See: https://github.com/scikit-learn/scikit-learn/issues/21755 */display: inline-block !important;position: relative;}#sk-container-id-1 div.sk-text-repr-fallback {display: none;}</style><div id=\"sk-container-id-1\" class=\"sk-top-container\"><div class=\"sk-text-repr-fallback\"><pre>MultinomialNB()</pre><b>In a Jupyter environment, please rerun this cell to show the HTML representation or trust the notebook. <br />On GitHub, the HTML representation is unable to render, please try loading this page with nbviewer.org.</b></div><div class=\"sk-container\" hidden><div class=\"sk-item\"><div class=\"sk-estimator sk-toggleable\"><input class=\"sk-toggleable__control sk-hidden--visually\" id=\"sk-estimator-id-1\" type=\"checkbox\" checked><label for=\"sk-estimator-id-1\" class=\"sk-toggleable__label sk-toggleable__label-arrow\">MultinomialNB</label><div class=\"sk-toggleable__content\"><pre>MultinomialNB()</pre></div></div></div></div></div>"
      ],
      "text/plain": [
       "MultinomialNB()"
      ]
     },
     "execution_count": 13,
     "metadata": {},
     "output_type": "execute_result"
    }
   ],
   "source": [
    "from sklearn.naive_bayes import MultinomialNB\n",
    "from sklearn.metrics import accuracy_score\n",
    "\n",
    "clf = MultinomialNB()\n",
    "clf\n",
    "MultinomialNB()\n",
    "clf.fit(X_train_vect, y_train)\n",
    "MultinomialNB()"
   ]
  },
  {
   "cell_type": "code",
   "execution_count": 14,
   "id": "b7c7db03",
   "metadata": {},
   "outputs": [],
   "source": [
    "# Predictions"
   ]
  },
  {
   "cell_type": "code",
   "execution_count": 15,
   "id": "9bc4c070",
   "metadata": {},
   "outputs": [
    {
     "name": "stdout",
     "output_type": "stream",
     "text": [
      "['fake' 'real' 'fake' ... 'fake' 'fake' 'fake']\n",
      "Accuracy: 0.9140882159315339\n"
     ]
    }
   ],
   "source": [
    "y_pred = clf.predict(X_test_vect)\n",
    "y_pred\n",
    "print(y_pred)\n",
    "acc = accuracy_score(y_test, y_pred)\n",
    "print(\"Accuracy:\", acc)"
   ]
  },
  {
   "cell_type": "code",
   "execution_count": 16,
   "id": "938db3ab",
   "metadata": {},
   "outputs": [],
   "source": [
    "# Confusion Matrix"
   ]
  },
  {
   "cell_type": "code",
   "execution_count": 17,
   "id": "1da5a22a",
   "metadata": {},
   "outputs": [
    {
     "name": "stdout",
     "output_type": "stream",
     "text": [
      "[[3848  436]\n",
      " [ 347 4483]]\n"
     ]
    }
   ],
   "source": [
    "from sklearn.metrics import confusion_matrix\n",
    "\n",
    "cm = confusion_matrix(y_test, y_pred)\n",
    "print(cm)"
   ]
  },
  {
   "cell_type": "code",
   "execution_count": 18,
   "id": "adbfce07",
   "metadata": {},
   "outputs": [
    {
     "data": {
      "text/plain": [
       "<Axes: >"
      ]
     },
     "execution_count": 18,
     "metadata": {},
     "output_type": "execute_result"
    },
    {
     "data": {
      "image/png": "[encoded data removed]",
      "text/plain": [
       "<Figure size 640x480 with 2 Axes>"
      ]
     },
     "metadata": {},
     "output_type": "display_data"
    }
   ],
   "source": [
    "import seaborn as sns\n",
    "sns.heatmap(cm, annot=True)"
   ]
  },
  {
   "cell_type": "code",
   "execution_count": 19,
   "id": "33eb5046",
   "metadata": {},
   "outputs": [],
   "source": [
    "# Classification Report"
   ]
  },
  {
   "cell_type": "code",
   "execution_count": 20,
   "id": "7cf7f3db",
   "metadata": {},
   "outputs": [
    {
     "name": "stdout",
     "output_type": "stream",
     "text": [
      "              precision    recall  f1-score   support\n",
      "\n",
      "        true       0.92      0.90      0.91      4284\n",
      "        fake       0.91      0.93      0.92      4830\n",
      "\n",
      "    accuracy                           0.91      9114\n",
      "   macro avg       0.91      0.91      0.91      9114\n",
      "weighted avg       0.91      0.91      0.91      9114\n",
      "\n"
     ]
    }
   ],
   "source": [
    "from sklearn.metrics import classification_report\n",
    "target_names = ['true', 'fake']\n",
    "print(classification_report(y_test, y_pred, target_names=target_names))"
   ]
  },
  {
   "cell_type": "markdown",
   "id": "83bce1dc",
   "metadata": {},
   "source": [
    "### SECOND METHOD"
   ]
  },
  {
   "cell_type": "code",
   "execution_count": 21,
   "id": "7593bec7",
   "metadata": {},
   "outputs": [],
   "source": [
    "# from gensim.models import Word2Vec\n",
    "# from nltk.stem.porter import PorterStemmer\n",
    "\n",
    "# ps = PorterStemmer()\n",
    "# corpus = []\n",
    "# words = []\n",
    "# for i in range(0,len(df)):\n",
    "#     review = re.sub('[^a-zA-Z0-9]',' ',df['title'][i])\n",
    "#     review = review.lower()\n",
    "#     review = review.split()\n",
    "#     review = [ps.stem(word) for word in review if not word in stopwords.words('english')]\n",
    "#     statements = ' '.join(review)\n",
    "#     corpus.append(statements)\n",
    "#     words.append(review)\n",
    "                 \n",
    "# word2vec = Word2Vec(words, min_count=1)"
   ]
  },
  {
   "cell_type": "code",
   "execution_count": 22,
   "id": "3f8f2efe",
   "metadata": {},
   "outputs": [],
   "source": [
    "# from gensim.models import Word2Vec\n",
    "# from konlpy.tag import Mecab\n",
    "\n",
    "# tokenizer = Mecab()\n",
    "# def text_preprocessing(text,tokenizer):\n",
    "#     txt = re.sub('[^a-zA-Z]', ' ', text)\n",
    "#     token = tokenizer.morphs(txt)\n",
    "#     token = [t for t in token if t not in stop_words]   \n",
    "#     return token\n",
    "\n",
    "# for i in range(len(data['text'])):\n",
    "#     tmp=text_preprocessing(data['text'][i].lower(),tokenizer)\n",
    "#     data['clean_text'][i]=tmp\n",
    "    \n"
   ]
  },
  {
   "cell_type": "code",
   "execution_count": 24,
   "id": "331e825a",
   "metadata": {},
   "outputs": [
    {
     "name": "stdout",
     "output_type": "stream",
     "text": [
      "Model train accuracy: 90.578%\n",
      "Model test accuracy: 86.406%\n"
     ]
    },
    {
     "ename": "NameError",
     "evalue": "name 'precision_score' is not defined",
     "output_type": "error",
     "traceback": [
      "\u001b[1;31m---------------------------------------------------------------------------\u001b[0m",
      "\u001b[1;31mNameError\u001b[0m                                 Traceback (most recent call last)",
      "Cell \u001b[1;32mIn[24], line 12\u001b[0m\n\u001b[0;32m     10\u001b[0m \u001b[38;5;28mprint\u001b[39m(\u001b[38;5;124mf\u001b[39m\u001b[38;5;124m'\u001b[39m\u001b[38;5;124mModel train accuracy: \u001b[39m\u001b[38;5;132;01m{\u001b[39;00mknn\u001b[38;5;241m.\u001b[39mscore(X_train_vect,\u001b[38;5;250m \u001b[39my_train)\u001b[38;5;241m*\u001b[39m\u001b[38;5;241m100\u001b[39m\u001b[38;5;132;01m:\u001b[39;00m\u001b[38;5;124m.3f\u001b[39m\u001b[38;5;132;01m}\u001b[39;00m\u001b[38;5;124m%\u001b[39m\u001b[38;5;124m'\u001b[39m)\n\u001b[0;32m     11\u001b[0m \u001b[38;5;28mprint\u001b[39m(\u001b[38;5;124mf\u001b[39m\u001b[38;5;124m'\u001b[39m\u001b[38;5;124mModel test accuracy: \u001b[39m\u001b[38;5;132;01m{\u001b[39;00mknn\u001b[38;5;241m.\u001b[39mscore(X_test_vect,\u001b[38;5;250m \u001b[39my_test)\u001b[38;5;241m*\u001b[39m\u001b[38;5;241m100\u001b[39m\u001b[38;5;132;01m:\u001b[39;00m\u001b[38;5;124m.3f\u001b[39m\u001b[38;5;132;01m}\u001b[39;00m\u001b[38;5;124m%\u001b[39m\u001b[38;5;124m'\u001b[39m)\n\u001b[1;32m---> 12\u001b[0m \u001b[38;5;28mprint\u001b[39m(\u001b[38;5;124mf\u001b[39m\u001b[38;5;124m'\u001b[39m\u001b[38;5;124mModel test precision: \u001b[39m\u001b[38;5;132;01m{\u001b[39;00m\u001b[43mprecision_score\u001b[49m(y_pred,y_test)\u001b[38;5;132;01m:\u001b[39;00m\u001b[38;5;124m.3f\u001b[39m\u001b[38;5;132;01m}\u001b[39;00m\u001b[38;5;124m'\u001b[39m)\n\u001b[0;32m     13\u001b[0m \u001b[38;5;28mprint\u001b[39m(\u001b[38;5;124mf\u001b[39m\u001b[38;5;124m'\u001b[39m\u001b[38;5;124mModel test recall: \u001b[39m\u001b[38;5;132;01m{\u001b[39;00mrecall_score(y_pred,y_test)\u001b[38;5;132;01m:\u001b[39;00m\u001b[38;5;124m.3f\u001b[39m\u001b[38;5;132;01m}\u001b[39;00m\u001b[38;5;124m'\u001b[39m)\n\u001b[0;32m     14\u001b[0m \u001b[38;5;28mprint\u001b[39m(\u001b[38;5;124mf\u001b[39m\u001b[38;5;124m'\u001b[39m\u001b[38;5;124mModel test f1_score: \u001b[39m\u001b[38;5;132;01m{\u001b[39;00mf1_score(y_pred,y_test)\u001b[38;5;132;01m:\u001b[39;00m\u001b[38;5;124m.3f\u001b[39m\u001b[38;5;132;01m}\u001b[39;00m\u001b[38;5;124m'\u001b[39m)\n",
      "\u001b[1;31mNameError\u001b[0m: name 'precision_score' is not defined"
     ]
    }
   ],
   "source": [
    "from sklearn.neighbors import KNeighborsClassifier\n",
    "\n",
    "# Create the KNeighborsClassifier model\n",
    "knn = KNeighborsClassifier(n_neighbors=5)\n",
    "# Fit the model\n",
    "knn.fit(X_train_vect, y_train)\n",
    "# Use the trained model to predict\n",
    "y_pred = knn.predict(X_test_vect)\n",
    "# model accuracy\n",
    "print(f'Model train accuracy: {knn.score(X_train_vect, y_train)*100:.3f}%')\n",
    "print(f'Model test accuracy: {knn.score(X_test_vect, y_test)*100:.3f}%')\n",
    "print(f'Model test precision: {precision_score(y_pred,y_test):.3f}')\n",
    "print(f'Model test recall: {recall_score(y_pred,y_test):.3f}')\n",
    "print(f'Model test f1_score: {f1_score(y_pred,y_test):.3f}')"
   ]
  },
  {
   "cell_type": "code",
   "execution_count": 33,
   "id": "822574d3",
   "metadata": {},
   "outputs": [
    {
     "name": "stdout",
     "output_type": "stream",
     "text": [
      "Model test precision: 0.848\n",
      "Model test recall: 0.905\n",
      "Model test f1_score: 0.876\n"
     ]
    }
   ],
   "source": [
    "from sklearn.metrics import accuracy_score, precision_score, recall_score, confusion_matrix,f1_score,classification_report\n",
    "print(f'Model test precision: {precision_score(y_test, y_pred, pos_label=\"real\"):.3f}')\n",
    "print(f'Model test recall: {recall_score(y_test, y_pred, pos_label=\"real\"):.3f}')\n",
    "print(f'Model test f1_score: {f1_score(y_test, y_pred, pos_label=\"real\"):.3f}')\n"
   ]
  },
  {
   "cell_type": "code",
   "execution_count": null,
   "id": "ff4eade1",
   "metadata": {},
   "outputs": [],
   "source": []
  }
 ],
 "metadata": {
  "kernelspec": {
   "display_name": "Python 3 (ipykernel)",
   "language": "python",
   "name": "python3"
  },
  "language_info": {
   "codemirror_mode": {
    "name": "ipython",
    "version": 3
   },
   "file_extension": ".py",
   "mimetype": "text/x-python",
   "name": "python",
   "nbconvert_exporter": "python",
   "pygments_lexer": "ipython3",
   "version": "3.10.0"
  }
 },
 "nbformat": 4,
 "nbformat_minor": 5
}
